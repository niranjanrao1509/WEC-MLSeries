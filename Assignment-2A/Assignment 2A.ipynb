{
 "cells": [
  {
   "cell_type": "code",
   "execution_count": 1,
   "metadata": {
    "collapsed": true
   },
   "outputs": [],
   "source": [
    "import numpy as np\n",
    "\"\"\"Link to the numpy docs: https://docs.scipy.org/doc/numpy-1.13.0/reference/\"\"\""
   ]
  },
  {
   "cell_type": "markdown",
   "metadata": {},
   "source": [
    "Lets solve a few basic numpy problems"
   ]
  },
  {
   "cell_type": "code",
   "execution_count": 4,
   "metadata": {
    "collapsed": true
   },
   "outputs": [],
   "source": [
    "def get_range(start, end, step):\n",
    "    \"\"\"Return an array of given range with specific step\"\"\"\n",
    "    \n",
    "    return(np.arange(start, end, step))"
   ]
  },
  {
   "cell_type": "code",
   "execution_count": 5,
   "metadata": {
    "collapsed": true
   },
   "outputs": [],
   "source": [
    "def new_shape(old_array, new_shape):\n",
    "    \"\"\"Return an array of given shape\"\"\"\n",
    "   \n",
    "    return(np.reshape(old_array,new_shape))\n"
   ]
  },
  {
   "cell_type": "code",
   "execution_count": 6,
   "metadata": {
    "collapsed": true
   },
   "outputs": [],
   "source": [
    "def reverse_array(old_array):\n",
    "    \"\"\"Return the reversed array\"\"\"\n",
    "\n",
    "    return(old_array[::-1])\n"
   ]
  },
  {
   "cell_type": "code",
   "execution_count": 7,
   "metadata": {
    "collapsed": true
   },
   "outputs": [],
   "source": [
    "def stack_lists(lists):\n",
    "  \n",
    "    return(np.hstack(lists))\n"
   ]
  },
  {
   "cell_type": "code",
   "execution_count": 8,
   "metadata": {
    "collapsed": true
   },
   "outputs": [],
   "source": [
    "def get_trignometric_values(angles):\n",
    "    \"\"\"Return an array containing sine, cosine and tangent values of the given angle stacked horizontally\"\"\"\n",
    "    #initialize array\n",
    "    \n",
    "    #define sine function\n",
    "    sines = np.sin(angles)\n",
    "    #define cosine function\n",
    "    cosines = np.cos(angles)\n",
    "    #define tangent function\n",
    "    tangents = np.tan(angles)\n",
    "    #define function to return array with stacked lists\n",
    "    trigo_list=[sin,cos,tan]\n",
    "    arr=np.hstack(trigo_list)\n",
    "    #return the array\n",
    "    return(arr)"
   ]
  },
  {
   "cell_type": "code",
   "execution_count": 9,
   "metadata": {
    "collapsed": true
   },
   "outputs": [],
   "source": [
    "def invert_array(array):\n",
    "    \"\"\"Return the pseudo inverse of the given array; read more about pseudo inverse at: \n",
    "    https://en.wikipedia.org/wiki/Moore%E2%80%93Penrose_inverse\"\"\"\n",
    "  \n",
    "    return np.linalg.inv(array)\n"
   ]
  },
  {
   "cell_type": "code",
   "execution_count": 11,
   "metadata": {
    "collapsed": true
   },
   "outputs": [],
   "source": [
    "def flatten_array(array):\n",
    "    \"\"\"Return the flattened array\"\"\"\n",
    "    \n",
    "    return np.ndarray.flatten\n"
   ]
  },
  {
   "cell_type": "code",
   "execution_count": 12,
   "metadata": {
    "collapsed": true
   },
   "outputs": [],
   "source": [
    "def add_noise(array, mean, std):\n",
    "    \"\"\"Add gaussian noise with given mean and standard deviation; read more about the normal distribution at:\n",
    "    https://en.wikipedia.org/wiki/Normal_distribution\"\"\"\n",
    "    #define function to add noise with the given mean and standard deviation\n",
    "    from random import gauss\n",
    "    #return the array\n",
    "    arr = np.array([i+gauss(mean.std) for i in array])\n",
    "    return(arr)"
   ]
  },
  {
   "cell_type": "code",
   "execution_count": 13,
   "metadata": {
    "collapsed": true
   },
   "outputs": [],
   "source": [
    "def expand_array(array, axis):\n",
    "    \"\"\"Return an array expanded along the column\"\"\"\n",
    "   \n",
    "    return np.expand_dims(array,axis)\n"
   ]
  },
  {
   "cell_type": "code",
   "execution_count": 14,
   "metadata": {
    "collapsed": true
   },
   "outputs": [],
   "source": [
    "def sigmoid_fn(array):\n",
    "    \"\"\"Return an array with the sigmoid values\"\"\"\n",
    "    #define sigmoid function \n",
    "    sigmoid = 1 / (1 + np.exp(-z))\n",
    "    \n",
    "    #return the array\n",
    "    return(np.array([sigmoid(i) for i in array]))\n",
    "    "
   ]
  },
  {
   "cell_type": "code",
   "execution_count": 1,
   "metadata": {},
   "outputs": [],
   "source": [
    "def get_means(array):\n",
    "    \"\"\"Return arithmetic mean, geometric mean, harmonic mean and log means in a column array\"\"\"\n",
    "    #define function for arithmetic mean\n",
    "    from scipy.stats.mstats import hmean,gmean \n",
    "    means.append(np.mean(array))\n",
    "\n",
    "    #define function for geometric mean\n",
    "    means.append(scipy.stats.gmean(array)) \n",
    "    #define function for harmonic mean\n",
    "    means.append(scipy.stats.hmean(array)) \n",
    "    #define function for log means\n",
    "    means.append(np.log(array).mean())\n",
    "    #return the array\n",
    "    return(np.hstack(means))"
   ]
  },
  {
   "cell_type": "code",
   "execution_count": 16,
   "metadata": {
    "collapsed": true
   },
   "outputs": [],
   "source": [
    "def return_count(array, threshold):\n",
    "    \"\"\"Return the number of elements above the threshold in an array\"\"\"\n",
    "    #define function to count the number of elements above the threshold\n",
    "    \n",
    "    #return the value\n",
    "    return(array[np.where(array > threshold)])\n"
   ]
  },
  {
   "cell_type": "code",
   "execution_count": 17,
   "metadata": {
    "collapsed": true
   },
   "outputs": [],
   "source": [
    "def column_sum(array, column_no):\n",
    "    \"\"\"Return the sum of all the elements in a column of the array\"\"\"\n",
    "    #check if column exists in array, else return(np.nan)\n",
    "    try:\n",
    "        return sum(array[:,column_no])\n",
    "    except:\n",
    "        return np.nan\n",
    "    "
   ]
  },
  {
   "cell_type": "code",
   "execution_count": 19,
   "metadata": {
    "collapsed": true
   },
   "outputs": [],
   "source": [
    "def row_sum(array, row_no):\n",
    "    \"\"\"Return the sum of all the elements in a row of the array\"\"\"\n",
    "    try:\n",
    "        return sum(array[row_no,:])\n",
    "    except:\n",
    "        return np.nan\n",
    "    return()"
   ]
  },
  {
   "cell_type": "code",
   "execution_count": 4,
   "metadata": {},
   "outputs": [],
   "source": [
    "def check_diag(array):\n",
    "    \"\"\"Return True if the matrix is diagonal\"\"\"\n",
    "    #define function to chweck if the matrix is diagonal\n",
    "    for i in range(len(array)):\n",
    "        for j in range(len(array)):\n",
    "            if ((i != j) and (array[i][j] != 0)) : \n",
    "                return False\n",
    "  \n",
    "    return True\n",
    " "
   ]
  },
  {
   "cell_type": "code",
   "execution_count": null,
   "metadata": {
    "collapsed": true
   },
   "outputs": [],
   "source": []
  }
 ],
 "metadata": {
  "kernelspec": {
   "display_name": "Python 3",
   "language": "python",
   "name": "python3"
  },
  "language_info": {
   "codemirror_mode": {
    "name": "ipython",
    "version": 3
   },
   "file_extension": ".py",
   "mimetype": "text/x-python",
   "name": "python",
   "nbconvert_exporter": "python",
   "pygments_lexer": "ipython3",
   "version": "3.6.6"
  }
 },
 "nbformat": 4,
 "nbformat_minor": 2
}
